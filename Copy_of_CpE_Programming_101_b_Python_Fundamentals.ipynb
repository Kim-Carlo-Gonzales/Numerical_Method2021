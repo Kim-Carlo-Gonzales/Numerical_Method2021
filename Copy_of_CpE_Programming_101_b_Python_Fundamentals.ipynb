{
  "nbformat": 4,
  "nbformat_minor": 0,
  "metadata": {
    "colab": {
      "name": "Copy of CpE Programming 101.b - Python Fundamentals",
      "provenance": [],
      "collapsed_sections": [],
      "include_colab_link": true
    },
    "kernelspec": {
      "name": "python3",
      "display_name": "Python 3"
    }
  },
  "cells": [
    {
      "cell_type": "markdown",
      "metadata": {
        "id": "view-in-github",
        "colab_type": "text"
      },
      "source": [
        "<a href=\"https://colab.research.google.com/github/Kim-Carlo-Gonzales/Numerical_Method2021/blob/main/Copy_of_CpE_Programming_101_b_Python_Fundamentals.ipynb\" target=\"_parent\"><img src=\"https://colab.research.google.com/assets/colab-badge.svg\" alt=\"Open In Colab\"/></a>"
      ]
    },
    {
      "cell_type": "markdown",
      "metadata": {
        "id": "QnAdk8hy7Bl9"
      },
      "source": [
        "# Welcome to Python Fundamentals\r\n",
        "*by K.C.M. Gonzales. ©2021*\r\n",
        "\r\n",
        "In this module, we are going to establish or review our skills in Python programming. In this notebook we are going to cover:\r\n",
        "* Variables and Data Types \r\n",
        "* Operations\r\n",
        "* Input and Output Operations\r\n",
        "* Logic Control\r\n",
        "* Iterables\r\n",
        "* Functions"
      ]
    },
    {
      "cell_type": "markdown",
      "metadata": {
        "id": "T6ABRAjTT1Ta"
      },
      "source": [
        "## Variable and Data Types\r\n",
        "\r\n",
        "**Variables**\r\n",
        "\r\n",
        "Variables are characters that act as a container for data. \r\n",
        "\r\n",
        "**Data Types**\r\n",
        "\r\n",
        " Data types are the classification of different kinds of data, for example, numbers 1.5, 6.0, and 1.1 are called float, while \"staph\" and \"XD\" are examples of strings.\r\n",
        "**Basic Data Types:**\r\n",
        "- **String (str)** - A collection of one or more characters that are encased in a single quote('x'), double quote(\"x\"), or triple quote ('''x''')\r\n",
        "\r\n",
        "- **Integer (int)** - A data type that contains positive and negative whole numbers ( Decimals and fractions are not included). \r\n",
        "\r\n",
        "- **Float (float)** - A data type that contains all real numbers (Has decimal points). It can be represented in decimal form or scientific notations.\r\n",
        "\r\n",
        "- **Boolean (bool)** - A data type that could be either True or False.\r\n"
      ]
    },
    {
      "cell_type": "code",
      "metadata": {
        "id": "G8JI3DTZ616F"
      },
      "source": [
        "x = 1\r\n",
        "a,b = 0, -1"
      ],
      "execution_count": null,
      "outputs": []
    },
    {
      "cell_type": "code",
      "metadata": {
        "id": "QLT9rz2dUJ95"
      },
      "source": [
        "type(x)"
      ],
      "execution_count": null,
      "outputs": []
    },
    {
      "cell_type": "code",
      "metadata": {
        "id": "TR_rvX4SUWqx"
      },
      "source": [
        "y = 1.0\r\n",
        "type(y)"
      ],
      "execution_count": null,
      "outputs": []
    },
    {
      "cell_type": "code",
      "metadata": {
        "id": "FqV2upOiXcnC"
      },
      "source": [
        "x = float(x)\r\n",
        "type(x)"
      ],
      "execution_count": null,
      "outputs": []
    },
    {
      "cell_type": "code",
      "metadata": {
        "id": "2tuyqwmyXiDb"
      },
      "source": [
        "s,t,u = \"0\", '1', 'one'\r\n",
        "type(s)"
      ],
      "execution_count": null,
      "outputs": []
    },
    {
      "cell_type": "code",
      "metadata": {
        "id": "6JwWqHx3XlmB"
      },
      "source": [
        "s_int = int(s)\r\n",
        "s_int"
      ],
      "execution_count": null,
      "outputs": []
    },
    {
      "cell_type": "markdown",
      "metadata": {
        "id": "9RgPwQR4YVG5"
      },
      "source": [
        "## Operations\r\n"
      ]
    },
    {
      "cell_type": "markdown",
      "metadata": {
        "id": "mvoS_zuJYbsg"
      },
      "source": [
        "### Arithmetic\r\n",
        "Operations used for basic calculation like addition, subtraction, division, and multiplication.\r\n",
        "\r\n",
        "**Types of Arithmetic Operations:**\r\n",
        "\r\n",
        "- **Addition** - for adding operands. Represented by the plus (\"+\") sign. Ex. Op_1 + Op_2.\r\n",
        "\r\n",
        "- **Subtraction** - for subtracting from the left operands to the one on the right. Represented by the minus (\"-\") sign. Ex. Op_1 - Op_2.\r\n",
        "\r\n",
        "- **Multiplication** -  for multiply operands. Represented by the asterisk (\"*\") sign. Ex. Op_1 * Op_2.\r\n",
        "\r\n",
        "- **Division** - for dividing from the left operands to the one on the right. Represented by the forward-slash (\"/\") symbol. Ex. Op_1/Op_2.\r\n",
        "\r\n",
        "- **Modulus** - for getting the remainder of a division (same concept of division). Represented by the percent (\"%\") symbol. Ex. Op_1%Op_2.\r\n",
        "\r\n",
        "- **Exponentiation** - raising the left operand with the one on the right. Represented by a double asterisk (\" ** \"). Ex. Op_1**Op_2.\r\n",
        "\r\n",
        "- **Floor division** - Divide operand left to right, but get only the whole number( Doesn't round off). Represented by a double forward-slash (\"//\"). Ex. Op_1//Op_2."
      ]
    },
    {
      "cell_type": "code",
      "metadata": {
        "id": "DSjUO0KcYoE-"
      },
      "source": [
        "a,b,c,d = 2.0, -0.5, 0, -32"
      ],
      "execution_count": null,
      "outputs": []
    },
    {
      "cell_type": "code",
      "metadata": {
        "id": "o_kk0XFzYX9o"
      },
      "source": [
        "### Addition\r\n",
        "S = a+b\r\n",
        "S"
      ],
      "execution_count": null,
      "outputs": []
    },
    {
      "cell_type": "code",
      "metadata": {
        "id": "TC5oFq3MY4jk"
      },
      "source": [
        "### Subtraction\r\n",
        "D = b-d\r\n",
        "D"
      ],
      "execution_count": null,
      "outputs": []
    },
    {
      "cell_type": "code",
      "metadata": {
        "id": "j0bGayj5Y9wr"
      },
      "source": [
        "### Multiplication\r\n",
        "P = a*d\r\n",
        "P"
      ],
      "execution_count": null,
      "outputs": []
    },
    {
      "cell_type": "code",
      "metadata": {
        "id": "FnMWmq5LZLEU"
      },
      "source": [
        "### Division\r\n",
        "Q = c/a\r\n",
        "Q"
      ],
      "execution_count": null,
      "outputs": []
    },
    {
      "cell_type": "code",
      "metadata": {
        "id": "cQeVcFIWZd8o"
      },
      "source": [
        "### Floor Division\r\n",
        "Fq = a//b\r\n",
        "Fq"
      ],
      "execution_count": null,
      "outputs": []
    },
    {
      "cell_type": "code",
      "metadata": {
        "id": "YLaUu6APZSzR"
      },
      "source": [
        "### Exponentiation\r\n",
        "E = a**b\r\n",
        "E"
      ],
      "execution_count": null,
      "outputs": []
    },
    {
      "cell_type": "code",
      "metadata": {
        "id": "uf_0sf4CZ1JT"
      },
      "source": [
        "### Modulo\r\n",
        "mod = d%a\r\n",
        "mod"
      ],
      "execution_count": null,
      "outputs": []
    },
    {
      "cell_type": "markdown",
      "metadata": {
        "id": "afyWvb1ZaJJ6"
      },
      "source": [
        "### Assignment Operations\r\n",
        "**Basic assignment operation :**\r\n",
        "\r\n",
        "- **Equal (=)** - assigns a value to a variable.\r\n",
        "\r\n",
        "- **Add AND (+=)** - adds a variable and assigns the sum in the same variable.\r\n",
        "\r\n",
        "- **Subtract AND (-=)**\t- subtracts a variable and assigns the difference in the same variable.\r\n",
        "\r\n",
        "- **Multiply AND (*=)** - multiplies a variable and assigns the product in the same variable.\r\n",
        "\r\n",
        "- **Divide AND (/=)** - divides a variable and assigns the quotient in the same variable. \r\n",
        "\r\n",
        "- **Modulus AND (%=)** - perform a modulo and assigns the value of the remainder with the same variable.\r\n",
        "\r\n",
        "- **Divide(floor) AND (//=)** - performs a floor division and assigns the value of the quotient in the same variable.\r\n",
        "\r\n",
        "- Exponent AND (**=) - performs exponentiation and assigns the value of the answer in the same variable."
      ]
    },
    {
      "cell_type": "code",
      "metadata": {
        "id": "rMZ8r4WhanaE"
      },
      "source": [
        "G, H, J, K = 0, 100, 2, 2"
      ],
      "execution_count": null,
      "outputs": []
    },
    {
      "cell_type": "code",
      "metadata": {
        "id": "IX0EbJ8RaMih"
      },
      "source": [
        "G += a\r\n",
        "G"
      ],
      "execution_count": null,
      "outputs": []
    },
    {
      "cell_type": "code",
      "metadata": {
        "id": "aIj4hA-JaRA0"
      },
      "source": [
        "H -= d"
      ],
      "execution_count": null,
      "outputs": []
    },
    {
      "cell_type": "code",
      "metadata": {
        "id": "vuuDbAbNaXgS"
      },
      "source": [
        "J *= 2\r\n",
        "J"
      ],
      "execution_count": null,
      "outputs": []
    },
    {
      "cell_type": "code",
      "metadata": {
        "id": "sGVXGduUaeAj"
      },
      "source": [
        "K **= 2\r\n",
        "K"
      ],
      "execution_count": null,
      "outputs": []
    },
    {
      "cell_type": "markdown",
      "metadata": {
        "id": "UGXuqhVNbW7R"
      },
      "source": [
        "### Comparators\r\n",
        ">Comparators or comparison operators are operators that compares two values with each other. There are six types of comparators, equal, not equal, greater than, less than, greater than or equal, and less than or equal. \r\n",
        "\r\n",
        "  Comparators    |        Meaning        |   Example\r\n",
        "  ---------------| ----------------------|-------------\r\n",
        "        ==       | equal to              | X == 1\r\n",
        "        !=       | not equal to          | X != 0\r\n",
        "        >\t       | greater than          | X > -1\r\n",
        "        <\t       | less than             | X < 2\r\n",
        "        >=       | greater than or equal | X >= 1\r\n",
        "        <=       | less than or equal    | X <= 1\r\n"
      ]
    },
    {
      "cell_type": "code",
      "metadata": {
        "id": "Oj9xLaEaYeuY"
      },
      "source": [
        "res_1, res_2, res_3 = 1, 2.0, \"1\"\r\n",
        "true_val = 1.0"
      ],
      "execution_count": null,
      "outputs": []
    },
    {
      "cell_type": "code",
      "metadata": {
        "id": "GEXm6RSsbA8Q"
      },
      "source": [
        "## Equality\r\n",
        "res_1 == true_val"
      ],
      "execution_count": null,
      "outputs": []
    },
    {
      "cell_type": "code",
      "metadata": {
        "id": "SdHk_b58bZhD"
      },
      "source": [
        "## Non-equality\r\n",
        "res_2 != true_val"
      ],
      "execution_count": null,
      "outputs": []
    },
    {
      "cell_type": "code",
      "metadata": {
        "id": "EnA4q50JbQB5"
      },
      "source": [
        "## Inequality\r\n",
        "t1 = res_1 > res_2\r\n",
        "t2 = res_1 < res_2/2\r\n",
        "t3 = res_1 >= res_2/2\r\n",
        "t4 = res_1 <= res_2  \r\n",
        "t1"
      ],
      "execution_count": null,
      "outputs": []
    },
    {
      "cell_type": "markdown",
      "metadata": {
        "id": "9WkfdvbfcC1Y"
      },
      "source": [
        "### Logical / Logical Operators\r\n",
        ">Logical operators are handy built-in variables in the python library that help in increasing precision in which data are filtered and shortening the algorithm. There are 4 basic logical operators, not, and, or, and is.\r\n",
        "An example of a situation that would need a logical operator is when you want a number that is higher than 1 but lower than 3, instead of using two conditional statements, you could just use \"and.\" "
      ]
    },
    {
      "cell_type": "code",
      "metadata": {
        "id": "cYVG6YeNb-Gz"
      },
      "source": [
        "res_1 == true_val"
      ],
      "execution_count": null,
      "outputs": []
    },
    {
      "cell_type": "code",
      "metadata": {
        "id": "rLe6hpkHcN-z"
      },
      "source": [
        "res_1 is true_val"
      ],
      "execution_count": null,
      "outputs": []
    },
    {
      "cell_type": "code",
      "metadata": {
        "id": "tr5qxHQmcO-C"
      },
      "source": [
        "res_1 is not true_val"
      ],
      "execution_count": null,
      "outputs": []
    },
    {
      "cell_type": "code",
      "metadata": {
        "id": "3GU72N-Gcslz"
      },
      "source": [
        "p, q = True, False\r\n",
        "conj = p and q\r\n",
        "conj"
      ],
      "execution_count": null,
      "outputs": []
    },
    {
      "cell_type": "code",
      "metadata": {
        "id": "ihMxcT6KcvQj"
      },
      "source": [
        "p, q = True, False\r\n",
        "disj = p or q\r\n",
        "disj"
      ],
      "execution_count": null,
      "outputs": []
    },
    {
      "cell_type": "code",
      "metadata": {
        "id": "T-QfmeYgcyGQ"
      },
      "source": [
        "p, q = True, False\r\n",
        "nand = not(p and q)\r\n",
        "nand"
      ],
      "execution_count": null,
      "outputs": []
    },
    {
      "cell_type": "code",
      "metadata": {
        "id": "2HL7SlVbc10k"
      },
      "source": [
        "p, q = True, False\r\n",
        "xor = (not p and q) or (p and not q)\r\n",
        "xor"
      ],
      "execution_count": null,
      "outputs": []
    },
    {
      "cell_type": "markdown",
      "metadata": {
        "id": "AQx4DKafYffJ"
      },
      "source": [
        "### I/O\r\n",
        ">I/O or input/output are used to either display or insert a value in the programming. \r\n",
        "\r\n",
        "- **Output** - this is are syntaxes that show the value of specific data, it can be written in 3 different formats simple format, f-string format, and the str.format() function. \r\n",
        "\t- **Types of formats:**\r\n",
        "\t\t- **simple format** - the usual format used by beginners in python programming, it is usually plain looking and the usual constant syntax is \"print().\"\r\n",
        "\t\t-**f-string format** - another output format in which the programmer would add \" f' \" and \"{ }\" for inserting values midway in the string for example print(f' Hi {name}'). In the example, anything inserted in the variable name would be placed in the string.\r\n",
        "\t\t- **str.format** - almost the same with f-string format but instead of using variables it would use a set of numbers that would get the values inside the parenthesis, for example, print( \"Hi {0}\" .format(name)). In the example, the curly brace with zero in it would get the value of \"name\" that is inside the parenthesis. It could also work without the numbers but you would be needing to arrange them simultaneously. \r\n",
        "\r\n",
        "- **Input** - represented by the input() function, it is used for inserting or adding data in the program. \r\n"
      ]
    },
    {
      "cell_type": "code",
      "metadata": {
        "id": "Q-DVERG5Yk9w"
      },
      "source": [
        "print(\"Hello World\")"
      ],
      "execution_count": null,
      "outputs": []
    },
    {
      "cell_type": "code",
      "metadata": {
        "id": "fS5wN51beSVF"
      },
      "source": [
        "cnt = 1"
      ],
      "execution_count": null,
      "outputs": []
    },
    {
      "cell_type": "code",
      "metadata": {
        "id": "hKNaUXmdZdUo"
      },
      "source": [
        "string = \"Hello World\"\r\n",
        "print(string, \", Current run count is:\", cnt)\r\n",
        "cnt += 1"
      ],
      "execution_count": null,
      "outputs": []
    },
    {
      "cell_type": "code",
      "metadata": {
        "id": "15_WdzEZcOVX"
      },
      "source": [
        "print(f\"{string}, Current count is: {cnt}\")"
      ],
      "execution_count": null,
      "outputs": []
    },
    {
      "cell_type": "code",
      "metadata": {
        "id": "5m9XtFOPcOXo"
      },
      "source": [
        "sem_grade = 82.243564657461234\r\n",
        "name = \"\"\r\n",
        "print(\"Hello {}, your semestral grade is: {}\".format(name, sem_grade))"
      ],
      "execution_count": null,
      "outputs": []
    },
    {
      "cell_type": "code",
      "metadata": {
        "id": "SMJx6bTnfdgZ",
        "colab": {
          "base_uri": "https://localhost:8080/"
        },
        "outputId": "7ddca3fe-cb6f-4148-9635-b0992091c6b3"
      },
      "source": [
        "w_pg, w_mg, w_fg = 0.3, 0.3, 0.4\r\n",
        "print(\"The weights of your semestral grades are:\\\r\n",
        "\\n\\t{:.2%} for Prelims\\\r\n",
        "\\n\\t{:.2%} for Midterms, and\\\r\n",
        "\\n\\t{:.2%} for Finals.\".format(w_pg, w_mg, w_fg))"
      ],
      "execution_count": null,
      "outputs": [
        {
          "output_type": "stream",
          "text": [
            "The weights of your semestral grades are:\n",
            "\t30.00% for Prelims\n",
            "\t30.00% for Midterms, and\n",
            "\t40.00% for Finals.\n"
          ],
          "name": "stdout"
        }
      ]
    },
    {
      "cell_type": "code",
      "metadata": {
        "id": "Ob2I_zR3jAcZ"
      },
      "source": [
        "x = input(\"enter a number: \")\r\n",
        "x"
      ],
      "execution_count": null,
      "outputs": []
    },
    {
      "cell_type": "code",
      "metadata": {
        "id": "T7ODFfcMh9Pg"
      },
      "source": [
        "name = input(\"Kimi no nawa: \")\r\n",
        "pg = input(\"Enter prelim grade: \")\r\n",
        "mg = input(\"Enter midterm grade: \")\r\n",
        "fg = input(\"Enter finals grade: \")\r\n",
        "sem_grade = None\r\n",
        "print(\"Hello {}, your semestral grade is: {}\".format(name, sem_grade))"
      ],
      "execution_count": null,
      "outputs": []
    },
    {
      "cell_type": "markdown",
      "metadata": {
        "id": "i0g3EothhvqL"
      },
      "source": [
        "# Looping Statements\r\n",
        ">Looping statements are statements that continuously repeat until they had met the condition they need to fulfill. There are two types of looping statements, the while loop and the for loop statements. These loop statements could also be stopped with the use of the break statement."
      ]
    },
    {
      "cell_type": "markdown",
      "metadata": {
        "id": "j4w90VAIjcFJ"
      },
      "source": [
        "## While Loop\r\n",
        "\r\n",
        ">While loops are loop statements that would continuously loop as long as the condition is met, for example, while x = 1: print(\"Hi\"). In the example, it would continuously print Hi until x would not be equal to 1."
      ]
    },
    {
      "cell_type": "code",
      "metadata": {
        "id": "4vtSrBPThlse"
      },
      "source": [
        "## while loops\r\n",
        "i, j = 0, 10\r\n",
        "while(i<=j):\r\n",
        "    print(f\"{i}\\t|\\t{j}\")\r\n",
        "    i+=1"
      ],
      "execution_count": null,
      "outputs": []
    },
    {
      "cell_type": "markdown",
      "metadata": {
        "id": "Qz6AH6jRjfUg"
      },
      "source": [
        "*italicized text*## For"
      ]
    },
    {
      "cell_type": "code",
      "metadata": {
        "id": "q0DUwfRkjZY7"
      },
      "source": [
        "# for(int i=0; i<10; i++){\r\n",
        "# printf(i)\r\n",
        "# }\r\n",
        "\r\n",
        "i=0\r\n",
        "for i in range(10):\r\n",
        "    print(i)"
      ],
      "execution_count": null,
      "outputs": []
    },
    {
      "cell_type": "code",
      "metadata": {
        "id": "zaM--lUhjiUg"
      },
      "source": [
        "playlist = []\r\n",
        "print('Now Playing:\\n')\r\n",
        "for song in playlist:\r\n",
        "    print(song)"
      ],
      "execution_count": null,
      "outputs": []
    },
    {
      "cell_type": "markdown",
      "metadata": {
        "id": "wq6MmTOyx3Cb"
      },
      "source": [
        "##For Loops\r\n",
        ">For loops are loop statements that would continuously loop until they had finished a sequence for example, for x in range(5): print(x), this example would print five numbers ascendingly, starting from zero up to number 4."
      ]
    },
    {
      "cell_type": "code",
      "metadata": {
        "id": "SOpfa4Qrx9zd"
      },
      "source": [
        "# for(int i=0; i<10; i++){\r\n",
        "# printf(i)\r\n",
        "# }\r\n",
        "\r\n",
        "i=0\r\n",
        "for i in range(10):\r\n",
        "    print(i)"
      ],
      "execution_count": null,
      "outputs": []
    },
    {
      "cell_type": "code",
      "metadata": {
        "id": "HMDlTQF2x9bm"
      },
      "source": [
        "playlist = []\r\n",
        "print('Now Playing:\\n')\r\n",
        "for song in playlist:\r\n",
        "    print(song)"
      ],
      "execution_count": null,
      "outputs": []
    },
    {
      "cell_type": "markdown",
      "metadata": {
        "id": "N6jTqTZojnSg"
      },
      "source": [
        "# Flow Control"
      ]
    },
    {
      "cell_type": "markdown",
      "metadata": {
        "id": "uhnsV2CijrWQ"
      },
      "source": [
        "## Condition Statements\r\n",
        "\r\n",
        ">Conditions Statements or conditional statements that are usually constructed with logical conditions like greater than (>). There are three types of conditional statements, the if statements, the elif statements, and the else statement.\r\n",
        "\r\n",
        "- **If statements** -  are statements that are usually used first before using the other two types. These are statements that would happen if a condition is true. For example, if x > 1: print(\"x is higher than 1\"), if x would be indeed greater than one then, the program would print \"x is higher than 1.\"\r\n",
        "\r\n",
        "- **Elif statements** - almost the same with the if statements, but it is usually used to find other specific things that would not fit in one statement. It can act as a catch statement that would run if the if statement is false.\r\n",
        "\r\n",
        "- **Else statements** - usually at the end of the flow control in which would act as the final catching point of a program."
      ]
    },
    {
      "cell_type": "code",
      "metadata": {
        "id": "seJplrJojmTg"
      },
      "source": [
        "numeral1, numeral2 = 12, 12\r\n",
        "if(numeral1 == numeral2):\r\n",
        "    print(\"Yey\")\r\n",
        "elif(numeral1>numeral2):\r\n",
        "    print(\"Hoho\")\r\n",
        "else:\r\n",
        "    print(\"Aww\")\r\n",
        "print(\"Hip hip\")"
      ],
      "execution_count": null,
      "outputs": []
    },
    {
      "cell_type": "markdown",
      "metadata": {
        "id": "tlnG1OKilNLo"
      },
      "source": [
        "# Functions\r\n",
        "\r\n",
        ">Functions are a block of codes that would not run unless it would be called. There are three parts of a function, a name,  arguments, and body. The name of the function is one of the important parts to remember because the function's name would need to be called for it to run. The next part is the arguments, arguments are variables that would be run through a function. It is possible to make functions without arguments but, it can make things more lengthy and confusing. Lastly, the body in which a set of code can be located inside it, these codes are the algorithm that would give meaning to the function. \r\n",
        "\r\n",
        " >There are two main types of functions the **built-in functions**, and the **user-defined function**.  Built-in functions are functions that are set along with the programming language, while user-defined functions are created by the users. For example, the print( ) function is a built-in function in the python dictionary. Another example is, a function created by a programmer that is named greet( ), this function would say hi to the users every time they insert their name.\r\n"
      ]
    },
    {
      "cell_type": "code",
      "metadata": {
        "id": "1iMUEipnlUKY"
      },
      "source": [
        "# void DeleteUser(int userid){\r\n",
        "#     delete(userid);\r\n",
        "# }\r\n",
        "\r\n",
        "def delete_user (userid):\r\n",
        "    print(\"Successfully deleted user: {}\".format(userid))\r\n",
        "    \r\n",
        "def delete_all_users ():\r\n",
        "    print(\"Successfully deleted all users\")"
      ],
      "execution_count": null,
      "outputs": []
    },
    {
      "cell_type": "code",
      "metadata": {
        "id": "v_TkrftylUEA"
      },
      "source": [
        "userid = 0\r\n",
        "delete_user(0)\r\n",
        "delete_all_users()"
      ],
      "execution_count": null,
      "outputs": []
    },
    {
      "cell_type": "code",
      "metadata": {
        "id": "M0ffjw31lT8Y"
      },
      "source": [
        "def add(addend1, addend2):\r\n",
        "    return addend1 + addend2\r\n",
        "\r\n",
        "def power_of_base2(exponent):\r\n",
        "    return 2**exponent"
      ],
      "execution_count": null,
      "outputs": []
    },
    {
      "cell_type": "markdown",
      "metadata": {
        "id": "2_tDT01oFEGQ"
      },
      "source": [
        "### Lambda Functions"
      ]
    },
    {
      "cell_type": "code",
      "metadata": {
        "id": "tmmBNW9pFg-4"
      },
      "source": [
        "x = 4"
      ],
      "execution_count": null,
      "outputs": []
    },
    {
      "cell_type": "code",
      "metadata": {
        "id": "_9KYzCrIFCpI"
      },
      "source": [
        "def f(x):\r\n",
        "  return 2*(x*x)-1\r\n",
        "f(x)"
      ],
      "execution_count": null,
      "outputs": []
    },
    {
      "cell_type": "code",
      "metadata": {
        "id": "a2uwKwqFFafn"
      },
      "source": [
        "g = lambda x: 2*(x*x)-1\r\n",
        "print(g(x))"
      ],
      "execution_count": null,
      "outputs": []
    },
    {
      "cell_type": "code",
      "metadata": {
        "id": "Rjm9RFrGlMgA"
      },
      "source": [
        "'''\r\n",
        "Create a grade calculator that computes for the semestral grade of a course.\r\n",
        "Students could type their names, the name of the course, then their prelim,\r\n",
        "midterm, and final grade.\r\n",
        "The program should print the semestral grade in 2 decimal points and should\r\n",
        "display the following emojis depending on the situation:\r\n",
        "happy - when grade is greater than 70.00\r\n",
        "laughing - when grade is exactly 70.00\r\n",
        "sad - when grade is below 70.00\r\n",
        "'''\r\n",
        "happy, lol, sad = \"\\U0001F600\",\"\\U0001F923\",\"\\U0001F619\""
      ],
      "execution_count": null,
      "outputs": []
    },
    {
      "cell_type": "code",
      "metadata": {
        "id": "JDgj-PjBJELe"
      },
      "source": [
        "# Function for computing a semstral grade\r\n",
        "def Semgrade_Calcu():\r\n",
        "  #Personal Info\r\n",
        "  stu_name = input(\"Student Name: \")\r\n",
        "  course_name = input(\"Course Name: \")\r\n",
        "\r\n",
        "  #Semestral grades\r\n",
        "  Prelim = float(input(\"Enter Prelim grade: \"))\r\n",
        "  Midterm = float(input(\"Enter Midterm grade:\"))\r\n",
        "  Finals = float(input(\"Enter Finals grade:\"))\r\n",
        "\r\n",
        "  #Sem Grade computation\r\n",
        "  w_pg, w_mg, w_fg = .3, .3, .4\r\n",
        "  sem_grade =  round(Prelim*w_pg + Midterm*w_mg + Finals*w_fg, 2)\r\n",
        "\r\n",
        "  #Emoji variables\r\n",
        "  happy, lol, sad = \"\\U0001F600\",\"\\U0001F923\",\"\\U0001F619\"\r\n",
        "\r\n",
        "  #Conditional statements\r\n",
        "  if  sem_grade > 70: emoji = happy\r\n",
        "  elif sem_grade == 70:  emoji = lol\r\n",
        "  else: emoji = sad\r\n",
        "\r\n",
        "  print(f'Hello {stu_name}, your grade in {course_name} for this semster is {sem_grade}. This is how I feel about it {emoji}.')\r\n"
      ],
      "execution_count": null,
      "outputs": []
    },
    {
      "cell_type": "markdown",
      "metadata": {
        "id": "NKsxXTsIYsdh"
      },
      "source": [
        "#References:\r\n"
      ]
    },
    {
      "cell_type": "markdown",
      "metadata": {
        "id": "qJEvtWMAluKI"
      },
      "source": [
        "[1] Geeks for Geeks (2020). [***Geeks for Geeks: Phython Data types***](https://www.geeksforgeeks.org/python-data-types/)\r\n",
        "\r\n",
        "[2] W3 Schools (2021). [***W3 Schools: Python Arithmetic Operators***](https://www.w3schools.com/python/gloss_python_arithmetic_operators.asp)\r\n",
        "\r\n",
        "[3] Programiz (2020). [***Programiz: Python Operators***](https://www.programiz.com/python-programming/operators#:~:text=Assignment%20operators%20are%20used%20in,and%20later%20assigns%20the%20same.)\r\n",
        "\r\n",
        "[4] W3 Schools (2021). [***W3 Schools: Python Comparison Operators***](https://www.w3schools.com/python/gloss_python_comparison_operators.asp)\r\n",
        "\r\n",
        "[5] OpenTechSchool (2015). [***OpenTechSchool: Logical Operators***](https://opentechschool.github.io/python-beginners/en/logical_operators.html)\r\n",
        "\r\n",
        "[6] Programiz (2020). [***Programiz: Python Input, Output and Import***](https://www.programiz.com/python-programming/input-output-import)\r\n",
        "\r\n",
        "[7] W3 Schools (2021). [***W3 Schools: Python While Loops***](https://www.w3schools.com/python/python_while_loops.asp)\r\n",
        "\r\n",
        "[8]  W3 Schools (2021). [***W3 Schools: Python For Loops***](https://www.w3schools.com/python/python_for_loops.asp)\r\n",
        "\r\n",
        "[9] W3 Schools (2021). [***W3 Schools: Python If ... Else***](https://www.w3schools.com/python/python_conditions.asp)\r\n",
        "\r\n",
        "[10] Purdue University (2020). [***Purdue University: Flow Control in Python***](https://www.math.purdue.edu/~bradfor3/ProgrammingFundamentals/Python/FlowControl/)\r\n",
        "\r\n",
        "[11] W3 Schools (2021). [***W3 Schools: Python Functions***](https://www.w3schools.com/python/python_functions.asp)\r\n",
        "\r\n",
        "[12] Geeks for Geeks (2020). [***Geeks for Geeks: Assignment Operators in Python***](https://www.geeksforgeeks.org/assignment-operators-in-python/)\r\n",
        "\r\n",
        "[13] Google Colab. [***Google Colab: Markdown Guide***](https://colab.research.google.com/notebooks/markdown_guide.ipynb#scrollTo=Lhfnlq1Surtk)"
      ]
    }
  ]
}